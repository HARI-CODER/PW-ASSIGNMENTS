{
 "cells": [
  {
   "cell_type": "raw",
   "id": "92138e37-ff8a-4c78-a8bd-f1ac9bb0afc0",
   "metadata": {},
   "source": [
    "1. What is a Python library? Why should we use Python libraries?\n",
    "A Python library is a collection of pre-written code and functions that developers can use to perform specific tasks without having to write the code from scratch. These libraries typically contain modules, classes, and functions that provide various functionalities, such as mathematical operations, data manipulation, web development, machine learning algorithms, and much more.\n",
    "We use Python Libraries to increase, efficiency, functionality, and standardization."
   ]
  },
  {
   "cell_type": "raw",
   "id": "a9ffb986-8786-439b-bedf-e61e07c2e9e0",
   "metadata": {},
   "source": [
    "2. What is the difference between numpy array and lists?\n",
    "Numpy arrays and lists are both used to store collection of data, but the key differences are :\n",
    "\n",
    "Data-Tyepes:\n",
    "NumPy arrays are homogeneous, meaning all elements in the array must be of the same data type (e.g., integers, floats). This allows for more efficient storage and operations on the data. Whereas python lists can contain elements of different data types, making them heterogeneous.\n",
    "Memory Efficiency:\n",
    "NumPy arrays: NumPy arrays are more memory-efficient than Python lists, especially for large datasets, because they store data in contiguous memory blocks and have a fixed size determined at creation.\n",
    "Python lists: Python lists are less memory-efficient because they store references to objects rather than the actual objects themselves, and they can dynamically resize as needed.\n",
    "Performance:\n",
    "NumPy arrays: NumPy operations are optimized and often implemented in C, making them much faster than equivalent operations performed on Python lists, especially for numerical computations.\n",
    "Python lists: Python lists are more flexible but slower for numerical computations due to their dynamic nature and lack of optimized operations.\n",
    "Functionality:\n",
    "NumPy arrays: NumPy provides a wide range of mathematical functions and operations optimized for arrays, such as element-wise operations, linear algebra, Fourier transforms, etc.\n",
    "Python lists: Python lists have built-in methods for common operations like appending, extending, and slicing, but they lack the extensive mathematical functionality of NumPy arrays.\n",
    "Usage:\n",
    "NumPy arrays: NumPy arrays are commonly used in numerical computing, scientific computing, data analysis, and machine learning applications where performance and efficiency are critical.\n",
    "Python lists: Python lists are more versatile and can be used in a wide range of scenarios where flexibility is more important than performance, such as general-purpose programming and working with heterogeneous data."
   ]
  },
  {
   "cell_type": "code",
   "execution_count": 5,
   "id": "e96f716b-5d1b-4c99-a565-c53724963f3b",
   "metadata": {},
   "outputs": [],
   "source": [
    "# 3. Find the shape, size and dimension of the following array?\n",
    "\n",
    "import numpy as np\n",
    "\n",
    "a = np.array([[1, 2, 3, 4],\n",
    "              [5, 6, 7, 8],\n",
    "              [9, 10, 11, 12]])\n"
   ]
  },
  {
   "cell_type": "code",
   "execution_count": 11,
   "id": "33ecb8c9-5cc1-4cba-8f4a-8cac016506e1",
   "metadata": {},
   "outputs": [
    {
     "data": {
      "text/plain": [
       "(3, 4)"
      ]
     },
     "execution_count": 11,
     "metadata": {},
     "output_type": "execute_result"
    }
   ],
   "source": [
    "a.shape"
   ]
  },
  {
   "cell_type": "code",
   "execution_count": 12,
   "id": "1c800112-d913-4c47-a138-31fce8a2cd6c",
   "metadata": {},
   "outputs": [
    {
     "data": {
      "text/plain": [
       "12"
      ]
     },
     "execution_count": 12,
     "metadata": {},
     "output_type": "execute_result"
    }
   ],
   "source": [
    "a.size"
   ]
  },
  {
   "cell_type": "code",
   "execution_count": 13,
   "id": "cfd983f4-0069-45fd-8511-d56f04bbbd77",
   "metadata": {},
   "outputs": [
    {
     "data": {
      "text/plain": [
       "2"
      ]
     },
     "execution_count": 13,
     "metadata": {},
     "output_type": "execute_result"
    }
   ],
   "source": [
    "a.ndim"
   ]
  },
  {
   "cell_type": "code",
   "execution_count": 15,
   "id": "b395f37d-8bad-4e49-a2d4-662393a222d0",
   "metadata": {},
   "outputs": [
    {
     "data": {
      "text/plain": [
       "array([1, 2, 3, 4])"
      ]
     },
     "execution_count": 15,
     "metadata": {},
     "output_type": "execute_result"
    }
   ],
   "source": [
    "# 4. Write python code to access the first row of the following array?\n",
    "a[0]"
   ]
  },
  {
   "cell_type": "code",
   "execution_count": 22,
   "id": "233ae01e-f621-4e3e-8657-74d0e1332f6b",
   "metadata": {},
   "outputs": [
    {
     "data": {
      "text/plain": [
       "12"
      ]
     },
     "execution_count": 22,
     "metadata": {},
     "output_type": "execute_result"
    }
   ],
   "source": [
    "# 5. How do you access the element at the third row and fourth column from the given numpy array?\n",
    "a[2 , 3]"
   ]
  },
  {
   "cell_type": "code",
   "execution_count": 25,
   "id": "32cf2742-f8e5-4871-8ae4-552c884ced9c",
   "metadata": {},
   "outputs": [
    {
     "name": "stdout",
     "output_type": "stream",
     "text": [
      "[[ 2  4]\n",
      " [ 6  8]\n",
      " [10 12]]\n"
     ]
    }
   ],
   "source": [
    "# 6. Write code to extract all odd-indexed elements from the given numpy array?\n",
    "arr = np.array([[1, 2, 3, 4],\n",
    "                [5, 6, 7, 8],\n",
    "                [9, 10, 11, 12]])\n",
    "odd_indexed_elements = arr[:, 1::2]\n",
    "\n",
    "print(odd_indexed_elements)"
   ]
  },
  {
   "cell_type": "code",
   "execution_count": 24,
   "id": "0ccf6d38-5ecc-4bad-929e-8998f42775fc",
   "metadata": {},
   "outputs": [
    {
     "name": "stdout",
     "output_type": "stream",
     "text": [
      "[[0.75315431 0.48569682 0.05472746]\n",
      " [0.26544724 0.28042382 0.20763394]\n",
      " [0.01607964 0.85613671 0.11703469]]\n"
     ]
    }
   ],
   "source": [
    "#7. Generate a random 3x3 matrix with values between 0 and 1\n",
    "random_matrix = np.random.rand(3, 3)\n",
    "\n",
    "print(random_matrix)\n"
   ]
  },
  {
   "cell_type": "raw",
   "id": "fa17d03b-8f89-4e0f-8fce-90c10fe84d94",
   "metadata": {},
   "source": [
    "# 8. Describe the difference between np.random.rand and np.random.randn?\n",
    "\n",
    "np.random.rand:\n",
    "Generates random numbers from a uniform distribution over the interval [0, 1).\n",
    "Takes the shape of the output array as input parameters.\n",
    "All generated numbers are equally likely to occur within the specified interval.\n",
    "It's particularly useful when you need random numbers uniformly distributed between 0 and 1.\n",
    "np.random.randn:\n",
    "Generates random numbers standard normal distribution (Gaussian distribution) include mean 0 standard and deviation 1.\n",
    "Doen't require the shape of the output array as input parameters; instead, you specify the size of the output array using separate parameters.\n",
    "The distribution is bell-shaped, centered around 0, and the majority of the generated numbers will be closer to 0.\n",
    "Its commonly used when you need random numbers following a normal distribution with mean 0 and standard deviation 1, which is often useful in statistical modeling and simulations."
   ]
  },
  {
   "cell_type": "code",
   "execution_count": 26,
   "id": "9c915be8-276e-4bdc-ab87-77ac214bfe98",
   "metadata": {},
   "outputs": [
    {
     "name": "stdout",
     "output_type": "stream",
     "text": [
      "Original array:\n",
      "[[ 1  2  3  4]\n",
      " [ 5  6  7  8]\n",
      " [ 9 10 11 12]]\n",
      "New array with increased dimension:\n",
      "[[[ 1  2  3  4]\n",
      "  [ 5  6  7  8]\n",
      "  [ 9 10 11 12]]]\n"
     ]
    }
   ],
   "source": [
    "# 9. Write code to increase the dimension of the following array?\n",
    "new_arr = np.expand_dims(arr, axis=0)\n",
    "\n",
    "print(\"Original array:\")\n",
    "print(arr)\n",
    "print(\"New array with increased dimension:\")\n",
    "print(new_arr)"
   ]
  },
  {
   "cell_type": "code",
   "execution_count": 27,
   "id": "cff18d31-0cad-4cdb-87d2-15c2908ca8ed",
   "metadata": {},
   "outputs": [
    {
     "data": {
      "text/plain": [
       "array([[ 1,  5,  9],\n",
       "       [ 2,  6, 10],\n",
       "       [ 3,  7, 11],\n",
       "       [ 4,  8, 12]])"
      ]
     },
     "execution_count": 27,
     "metadata": {},
     "output_type": "execute_result"
    }
   ],
   "source": [
    "# 10. How to transpose the following array in NumPy?\n",
    "arr.T"
   ]
  },
  {
   "cell_type": "code",
   "execution_count": 28,
   "id": "0992ec0e-d48f-44a4-bea5-af9e1f8f90f0",
   "metadata": {},
   "outputs": [],
   "source": [
    "# 11. Consider the following matrix:"
   ]
  },
  {
   "cell_type": "code",
   "execution_count": 40,
   "id": "22db41df-57f4-4b90-baa1-192ae69314dc",
   "metadata": {},
   "outputs": [],
   "source": [
    "arr1 = np.array([[1, 2, 3, 4], \n",
    "                 [5, 6, 7, 8],\n",
    "                 [9, 10, 11, 12]])\n",
    "arr2 = np.array([[1, 2, 3, 4], \n",
    "                 [5, 6, 7, 8],\n",
    "                 [9, 10, 11, 12]])"
   ]
  },
  {
   "cell_type": "code",
   "execution_count": 41,
   "id": "78b3dc1c-d2ce-4ba8-89d9-e33035e44907",
   "metadata": {},
   "outputs": [
    {
     "data": {
      "text/plain": [
       "array([[ 2,  4,  6,  8],\n",
       "       [10, 12, 14, 16],\n",
       "       [18, 20, 22, 24]])"
      ]
     },
     "execution_count": 41,
     "metadata": {},
     "output_type": "execute_result"
    }
   ],
   "source": [
    "arr1 + arr2"
   ]
  },
  {
   "cell_type": "code",
   "execution_count": 42,
   "id": "88f1dfc5-1890-4234-ac15-1857cba0cef3",
   "metadata": {},
   "outputs": [
    {
     "data": {
      "text/plain": [
       "array([[0, 0, 0, 0],\n",
       "       [0, 0, 0, 0],\n",
       "       [0, 0, 0, 0]])"
      ]
     },
     "execution_count": 42,
     "metadata": {},
     "output_type": "execute_result"
    }
   ],
   "source": [
    "arr1 - arr2"
   ]
  },
  {
   "cell_type": "code",
   "execution_count": 43,
   "id": "af393040-9cb7-4ddb-902b-06a9c2245f74",
   "metadata": {},
   "outputs": [
    {
     "data": {
      "text/plain": [
       "array([[1., 1., 1., 1.],\n",
       "       [1., 1., 1., 1.],\n",
       "       [1., 1., 1., 1.]])"
      ]
     },
     "execution_count": 43,
     "metadata": {},
     "output_type": "execute_result"
    }
   ],
   "source": [
    "arr2 / arr1"
   ]
  },
  {
   "cell_type": "code",
   "execution_count": 45,
   "id": "962031f4-51cc-4b30-9434-aacb50f1ff23",
   "metadata": {},
   "outputs": [
    {
     "ename": "ValueError",
     "evalue": "matmul: Input operand 1 has a mismatch in its core dimension 0, with gufunc signature (n?,k),(k,m?)->(n?,m?) (size 3 is different from 4)",
     "output_type": "error",
     "traceback": [
      "\u001b[0;31m---------------------------------------------------------------------------\u001b[0m",
      "\u001b[0;31mValueError\u001b[0m                                Traceback (most recent call last)",
      "Cell \u001b[0;32mIn[45], line 1\u001b[0m\n\u001b[0;32m----> 1\u001b[0m result \u001b[38;5;241m=\u001b[39m np\u001b[38;5;241m.\u001b[39mmatmul(arr1, arr2)\n",
      "\u001b[0;31mValueError\u001b[0m: matmul: Input operand 1 has a mismatch in its core dimension 0, with gufunc signature (n?,k),(k,m?)->(n?,m?) (size 3 is different from 4)"
     ]
    }
   ],
   "source": [
    "result = np.matmul(arr1, arr2)"
   ]
  },
  {
   "cell_type": "code",
   "execution_count": 46,
   "id": "7a0eeef4-79c3-43e3-921f-4a27a8eb77fb",
   "metadata": {},
   "outputs": [
    {
     "data": {
      "text/plain": [
       "(3, 4)"
      ]
     },
     "execution_count": 46,
     "metadata": {},
     "output_type": "execute_result"
    }
   ],
   "source": [
    "arr1.shape"
   ]
  },
  {
   "cell_type": "code",
   "execution_count": 47,
   "id": "19f9f786-57b7-46a5-9f3e-36e842d9afab",
   "metadata": {},
   "outputs": [
    {
     "data": {
      "text/plain": [
       "(3, 4)"
      ]
     },
     "execution_count": 47,
     "metadata": {},
     "output_type": "execute_result"
    }
   ],
   "source": [
    "arr2.shape"
   ]
  },
  {
   "cell_type": "code",
   "execution_count": 48,
   "id": "dc4548d6-60a7-4a2b-92e7-a4a9556d68cd",
   "metadata": {},
   "outputs": [
    {
     "data": {
      "text/plain": [
       "array([[  1,   4,   9,  16],\n",
       "       [ 25,  36,  49,  64],\n",
       "       [ 81, 100, 121, 144]])"
      ]
     },
     "execution_count": 48,
     "metadata": {},
     "output_type": "execute_result"
    }
   ],
   "source": [
    "arr1 * arr2"
   ]
  },
  {
   "cell_type": "raw",
   "id": "896e2aa6-f2f4-4c13-9c21-d9601fe70854",
   "metadata": {},
   "source": [
    "np.byteswap is used "
   ]
  },
  {
   "cell_type": "raw",
   "id": "fbfcd3b3-5d3a-4ce0-9e45-aa9b1220af78",
   "metadata": {},
   "source": [
    "The np.linalg.inv function in NumPy is used to compute the multiplicative inverse of a square matrix. In other words, it calculates the inverse of a given matrix.\n",
    "\n",
    "The significance of np.linalg.inv lies in its applications in linear algebra, particularly in solving systems of linear equations and inverting matrices"
   ]
  },
  {
   "cell_type": "raw",
   "id": "d93d1930-3660-4188-a870-a15659458e5d",
   "metadata": {},
   "source": [
    "The np.reshape function in NumPy is used to change the shape (dimensions) of an array without changing its data. It allows you to rearrange the elements of an array to conform to a new shape specified by a tuple of integers."
   ]
  },
  {
   "cell_type": "raw",
   "id": "e13278db-a1a4-44d7-8d4b-4f60ec88c382",
   "metadata": {},
   "source": []
  }
 ],
 "metadata": {
  "kernelspec": {
   "display_name": "Python 3 (ipykernel)",
   "language": "python",
   "name": "python3"
  },
  "language_info": {
   "codemirror_mode": {
    "name": "ipython",
    "version": 3
   },
   "file_extension": ".py",
   "mimetype": "text/x-python",
   "name": "python",
   "nbconvert_exporter": "python",
   "pygments_lexer": "ipython3",
   "version": "3.11.8"
  }
 },
 "nbformat": 4,
 "nbformat_minor": 5
}
